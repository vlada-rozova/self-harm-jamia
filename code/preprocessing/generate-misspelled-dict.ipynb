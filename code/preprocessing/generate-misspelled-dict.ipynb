{
 "cells": [
  {
   "cell_type": "markdown",
   "id": "a405c693",
   "metadata": {},
   "source": [
    "# Create a dictionary of misspellings\n",
    "\n",
    "This notebook parses the whole dataset and adds to an empty dict every token starting with an alpha that is not known to the vocabulary. After that, for each misspelled word a corrected version is found using pyspellchecker."
   ]
  },
  {
   "cell_type": "code",
   "execution_count": null,
   "id": "0caeaf8a",
   "metadata": {},
   "outputs": [],
   "source": [
    "import pandas as pd\n",
    "import re\n",
    "import spacy\n",
    "from spellchecker import SpellChecker\n",
    "import pickle\n",
    "import time\n",
    "from nlp_utils import preprocess, find_pattern\n",
    "from custom_tokenizer import combined_rule_tokenizer"
   ]
  },
  {
   "cell_type": "markdown",
   "id": "27855e1b",
   "metadata": {},
   "source": [
    "**Load RMH data**"
   ]
  },
  {
   "cell_type": "code",
   "execution_count": null,
   "id": "3a887f43",
   "metadata": {},
   "outputs": [],
   "source": [
    "df = pd.read_csv(\"../../data/spelling_correction/rmh_nospellcorr.csv\")\n",
    "df.head()"
   ]
  },
  {
   "cell_type": "markdown",
   "id": "75959dbd",
   "metadata": {},
   "source": [
    "**Create a dictionary of misspellings**"
   ]
  },
  {
   "cell_type": "code",
   "execution_count": null,
   "id": "5c352da8",
   "metadata": {},
   "outputs": [],
   "source": [
    "def starts_with_alpha(token):\n",
    "    return token == \"\" or token[0].isalpha()\n",
    "\n",
    "def add_misspelling(text):\n",
    "    tokens = text.split()\n",
    "    for token in spell.unknown(tokens):\n",
    "        if starts_with_alpha(token):\n",
    "            misspelled[token] = misspelled.get(token, 0) + 1"
   ]
  },
  {
   "cell_type": "code",
   "execution_count": null,
   "id": "6f12f113",
   "metadata": {},
   "outputs": [],
   "source": [
    "# Load a custom word frequency list\n",
    "with open ('../../data/spelling_correction/rmh_custom_vocab.txt', 'rb') as f:\n",
    "    vocab = pickle.load(f)\n",
    "    \n",
    "# Initialise spellchecker with a custom vocab\n",
    "spell = SpellChecker(language=None)\n",
    "spell.word_frequency.load_words(vocab)\n",
    "\n",
    "print(\"Domain-specific vocabulary contains %d unique words (%d words in total).\" % \n",
    "      (len(set(vocab)), len(vocab)))\n",
    "\n",
    "misspelled = dict()"
   ]
  },
  {
   "cell_type": "code",
   "execution_count": null,
   "id": "225c6df4",
   "metadata": {},
   "outputs": [],
   "source": [
    "%%time\n",
    "df.text_clean.apply(add_misspelling)\n",
    "\n",
    "print(\"Found %d misspelled words.\" % len(misspelled))\n",
    "\n",
    "with open('../../data/spelling_correction/rmh_misspelled_dict_nocorr.txt', 'wb') as f:\n",
    "    pickle.dump(misspelled, f)"
   ]
  },
  {
   "cell_type": "markdown",
   "id": "3f251da7",
   "metadata": {},
   "source": [
    "**Find a correct spelling for every misspelled word**"
   ]
  },
  {
   "cell_type": "code",
   "execution_count": null,
   "id": "1f9156d7",
   "metadata": {},
   "outputs": [],
   "source": [
    "%%time\n",
    "for token in list(misspelled.keys()):\n",
    "    misspelled.update({token : (misspelled[token], spell.correction(token))})"
   ]
  },
  {
   "cell_type": "markdown",
   "id": "adc466a2",
   "metadata": {},
   "source": [
    "### Manually correct misspellings"
   ]
  },
  {
   "cell_type": "code",
   "execution_count": null,
   "id": "7ffedeec",
   "metadata": {},
   "outputs": [],
   "source": [
    "del misspelled[\"\"]"
   ]
  },
  {
   "cell_type": "code",
   "execution_count": null,
   "id": "197bac15",
   "metadata": {},
   "outputs": [],
   "source": [
    "sorted(misspelled.items(), key=lambda item: item[1], reverse=True)"
   ]
  },
  {
   "cell_type": "code",
   "execution_count": null,
   "id": "52a3d0a2",
   "metadata": {},
   "outputs": [],
   "source": [
    "misspelled.update({\"spont\" : (misspelled[\"spont\"][0], \"spontaneous\")})\n",
    "misspelled.update({\"ecat\" : (misspelled[\"ecat\"][0], \"ecatt\")})\n",
    "misspelled.update({\"spontanoues\" : (misspelled[\"spontanoues\"][0], \"spontaneous\")})\n",
    "misspelled.update({\"sapu\" : (misspelled[\"sapu\"][0], \"saapu\")})\n",
    "misspelled.update({\"ethol\" : (misspelled[\"ethol\"][0], \"ethanol\")})\n",
    "misspelled.update({\"sucidial\" : (misspelled[\"sucidial\"][0], \"suicidal\")})\n",
    "misspelled.update({\"incont\" : (misspelled[\"incont\"][0], \"incontinent\")})"
   ]
  },
  {
   "cell_type": "code",
   "execution_count": null,
   "id": "3bd565f9",
   "metadata": {},
   "outputs": [],
   "source": [
    "with open('../../data/spelling_correction/rmh_misspelled_dict.txt', 'wb') as f:\n",
    "    pickle.dump(misspelled, f)"
   ]
  }
 ],
 "metadata": {
  "kernelspec": {
   "display_name": "Python 3 (ipykernel)",
   "language": "python",
   "name": "python3"
  },
  "language_info": {
   "codemirror_mode": {
    "name": "ipython",
    "version": 3
   },
   "file_extension": ".py",
   "mimetype": "text/x-python",
   "name": "python",
   "nbconvert_exporter": "python",
   "pygments_lexer": "ipython3",
   "version": "3.8.10"
  }
 },
 "nbformat": 4,
 "nbformat_minor": 5
}
