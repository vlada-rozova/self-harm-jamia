{
 "cells": [
  {
   "cell_type": "code",
   "execution_count": null,
   "metadata": {},
   "outputs": [],
   "source": [
    "import pandas as pd\n",
    "import numpy as np\n",
    "import re\n",
    "from time import time\n",
    "\n",
    "from sklearn.model_selection import train_test_split\n",
    "from sklearn.model_selection import StratifiedKFold\n",
    "\n",
    "from sklearn.metrics import precision_score, recall_score, f1_score, make_scorer,fbeta_score, average_precision_score\n",
    "\n",
    "import matplotlib.pyplot as plt\n",
    "import seaborn as sns\n",
    "\n",
    "import nlp_utils as utils\n",
    "from nlp_utils import get_vectorizer\n",
    "\n",
    "pd.options.display.max_colwidth = 100"
   ]
  },
  {
   "cell_type": "code",
   "execution_count": null,
   "metadata": {},
   "outputs": [],
   "source": [
    "# Set up\n",
    "text = \"entities\"\n",
    "label = \"SH\"\n",
    "\n",
    "class_names = (\"Controls\", \"Self harm\")\n",
    "\n",
    "# Parameters of feature extraction\n",
    "vectorizer_mode = \"select features\"\n",
    "params = {'analyzer' : \"word\",\n",
    "          'ngram_range' : (1,1),\n",
    "          'use_idf' : True,\n",
    "          'mode' : \"select by pvalue\",\n",
    "          'thresh' : 0.001}\n",
    "\n",
    "n_keywords = 20"
   ]
  },
  {
   "cell_type": "code",
   "execution_count": null,
   "metadata": {},
   "outputs": [],
   "source": [
    "df_train = pd.read_csv(\"../../data/rmh_train.csv\")\n",
    "df_train.SH.value_counts()"
   ]
  },
  {
   "cell_type": "markdown",
   "metadata": {},
   "source": [
    "# Binary classification (excl. SI)"
   ]
  },
  {
   "cell_type": "code",
   "execution_count": null,
   "metadata": {
    "scrolled": false
   },
   "outputs": [],
   "source": [
    "X = df_train[text]\n",
    "y = df_train.SH.values\n",
    "\n",
    "cv = StratifiedKFold(n_splits=10)\n",
    "\n",
    "vectorizer = get_vectorizer(vectorizer_mode, params)\n",
    "\n",
    "scores = {\"precision\" : [], \n",
    "          \"recall\" : [], \n",
    "          \"f1\" : [], \n",
    "          \"f2\" : [],\n",
    "          \"AP\" : []\n",
    "         }\n",
    "\n",
    "for train_index, val_index in cv.split(X, y):\n",
    "    vectorizer.fit(X[train_index], y[train_index])\n",
    "    SH_keywords = vectorizer.df_features.sort_values(by=\"p_value\")[:n_keywords].feature.tolist()\n",
    "    \n",
    "    y_pred = np.zeros_like(y[val_index])\n",
    "    y_pred[X[val_index].str.contains(\"|\".join(SH_keywords))] = 1\n",
    "    y_proba = pd.get_dummies(y_pred, drop_first=False).values\n",
    "    \n",
    "    scores[\"precision\"].append(precision_score(y[val_index], y_pred, average=\"binary\"))\n",
    "    scores[\"recall\"].append(recall_score(y[val_index], y_pred, average=\"binary\"))\n",
    "    scores[\"f1\"].append(f1_score(y[val_index], y_pred, average=\"binary\"))\n",
    "    scores[\"f2\"].append(fbeta_score(y[val_index], y_pred, beta=2, average=\"binary\"))\n",
    "    scores[\"AP\"].append(average_precision_score(y[val_index], y_proba[:,1]))\n",
    "    \n",
    "print(\"Average Precision: %0.3f (+/- %0.2f)\" % (np.mean(scores[\"precision\"]), \n",
    "                                                np.std(scores[\"precision\"]) * 2))\n",
    "print(\"Average Recall: %0.3f (+/- %0.2f)\" % (np.mean(scores[\"recall\"]), \n",
    "                                             np.std(scores[\"recall\"]) * 2))\n",
    "print(\"Average F1 score: %0.3f (+/- %0.2f)\" % (np.mean(scores[\"f1\"]), \n",
    "                                               np.std(scores[\"f1\"]) * 2))\n",
    "print(\"Average F2 score: %0.3f (+/- %0.2f)\" % (np.mean(scores[\"f2\"]), \n",
    "                                               np.std(scores[\"f2\"]) * 2))\n",
    "print(\"Average AP score: %0.3f (+/- %0.2f)\" % (np.mean(scores[\"AP\"]), \n",
    "                                               np.std(scores[\"AP\"]) * 2))"
   ]
  },
  {
   "cell_type": "code",
   "execution_count": null,
   "metadata": {},
   "outputs": [],
   "source": [
    "SH_keywords"
   ]
  },
  {
   "cell_type": "code",
   "execution_count": null,
   "metadata": {},
   "outputs": [],
   "source": [
    "y_train = df_train.SH.values\n",
    "vectorizer = get_vectorizer(vectorizer_mode, params)\n",
    "vectorizer.fit(df_train[text], y_train)"
   ]
  },
  {
   "cell_type": "code",
   "execution_count": null,
   "metadata": {},
   "outputs": [],
   "source": [
    "vectorizer.df_features"
   ]
  },
  {
   "cell_type": "code",
   "execution_count": null,
   "metadata": {},
   "outputs": [],
   "source": [
    "SH_keywords = vectorizer.df_features.sort_values(by=\"p_value\")[:n_keywords].feature.tolist()\n",
    "SH_keywords"
   ]
  },
  {
   "cell_type": "code",
   "execution_count": null,
   "metadata": {},
   "outputs": [],
   "source": [
    "[print('\"' + word + '\",') for word in SH_keywords]"
   ]
  },
  {
   "cell_type": "code",
   "execution_count": null,
   "metadata": {},
   "outputs": [],
   "source": [
    "vectorizer.df_features.sort_values(by=\"p_value\")[:1335]"
   ]
  },
  {
   "cell_type": "code",
   "execution_count": null,
   "metadata": {},
   "outputs": [],
   "source": [
    "df_test = pd.read_csv(\"../../data/rmh_test.csv\")\n",
    "y_test = df_test.SH.values\n",
    "\n",
    "y_pred = np.zeros_like(y_test)\n",
    "y_pred[df_test[text].str.contains(\"|\".join(SH_keywords))] = 1\n",
    "np.bincount(y_pred)"
   ]
  },
  {
   "cell_type": "code",
   "execution_count": null,
   "metadata": {},
   "outputs": [],
   "source": [
    "y_proba = pd.get_dummies(y_pred, drop_first=False).values\n",
    "utils.evaluate_model(y_test, y_proba, class_names, \"test\", digits=3, save_figures=False)"
   ]
  }
 ],
 "metadata": {
  "kernelspec": {
   "display_name": "Python 3 (ipykernel)",
   "language": "python",
   "name": "python3"
  },
  "language_info": {
   "codemirror_mode": {
    "name": "ipython",
    "version": 3
   },
   "file_extension": ".py",
   "mimetype": "text/x-python",
   "name": "python",
   "nbconvert_exporter": "python",
   "pygments_lexer": "ipython3",
   "version": "3.8.10"
  }
 },
 "nbformat": 4,
 "nbformat_minor": 4
}
