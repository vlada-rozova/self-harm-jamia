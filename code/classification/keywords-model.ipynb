{
 "cells": [
  {
   "cell_type": "code",
   "execution_count": 1,
   "metadata": {},
   "outputs": [],
   "source": [
    "import pandas as pd\n",
    "import numpy as np\n",
    "import re\n",
    "from time import time\n",
    "\n",
    "from sklearn.model_selection import train_test_split\n",
    "from sklearn.model_selection import StratifiedKFold\n",
    "\n",
    "from sklearn.metrics import precision_score, recall_score, f1_score, make_scorer,fbeta_score, average_precision_score\n",
    "\n",
    "import matplotlib.pyplot as plt\n",
    "import seaborn as sns\n",
    "\n",
    "import nlp_utils as utils\n",
    "from nlp_utils import get_vectorizer\n",
    "\n",
    "pd.options.display.max_colwidth = 100"
   ]
  },
  {
   "cell_type": "code",
   "execution_count": 4,
   "metadata": {},
   "outputs": [],
   "source": [
    "# Set up\n",
    "text = \"entities\"\n",
    "label = \"SH\"\n",
    "\n",
    "class_names = (\"Controls\", \"Self harm\")\n",
    "\n",
    "# Parameters of feature extraction\n",
    "vectorizer_mode = \"select features\"\n",
    "params = {'analyzer' : \"word\",\n",
    "          'ngram_range' : (1,1),\n",
    "          'use_idf' : True,\n",
    "          'mode' : \"select by pvalue\",\n",
    "          'thresh' : 0.001}\n",
    "\n",
    "n_keywords = 20"
   ]
  },
  {
   "cell_type": "code",
   "execution_count": 3,
   "metadata": {},
   "outputs": [
    {
     "data": {
      "text/plain": [
       "0    307399\n",
       "1      4145\n",
       "Name: SH, dtype: int64"
      ]
     },
     "execution_count": 3,
     "metadata": {},
     "output_type": "execute_result"
    }
   ],
   "source": [
    "df_train = pd.read_csv(\"./data/rmh_train.csv\")\n",
    "df_train.SH.value_counts()"
   ]
  },
  {
   "cell_type": "markdown",
   "metadata": {},
   "source": [
    "# Binary classification (excl. SI)"
   ]
  },
  {
   "cell_type": "code",
   "execution_count": 5,
   "metadata": {
    "scrolled": false
   },
   "outputs": [
    {
     "name": "stdout",
     "output_type": "stream",
     "text": [
      "Extracting features by a chi-squared test with p-value < 0.00...\n",
      "Selected features: 1071\n",
      "\n",
      "Extracting features by a chi-squared test with p-value < 0.00...\n",
      "Selected features: 1073\n",
      "\n",
      "Extracting features by a chi-squared test with p-value < 0.00...\n",
      "Selected features: 1069\n",
      "\n",
      "Extracting features by a chi-squared test with p-value < 0.00...\n",
      "Selected features: 1055\n",
      "\n",
      "Extracting features by a chi-squared test with p-value < 0.00...\n",
      "Selected features: 1090\n",
      "\n",
      "Extracting features by a chi-squared test with p-value < 0.00...\n",
      "Selected features: 1072\n",
      "\n",
      "Extracting features by a chi-squared test with p-value < 0.00...\n",
      "Selected features: 1076\n",
      "\n",
      "Extracting features by a chi-squared test with p-value < 0.00...\n",
      "Selected features: 1062\n",
      "\n",
      "Extracting features by a chi-squared test with p-value < 0.00...\n",
      "Selected features: 1083\n",
      "\n",
      "Extracting features by a chi-squared test with p-value < 0.00...\n",
      "Selected features: 1061\n",
      "\n",
      "Average Precision: 0.018 (+/- 0.00)\n",
      "Average Recall: 0.946 (+/- 0.02)\n",
      "Average F1 score: 0.035 (+/- 0.00)\n",
      "Average F2 score: 0.083 (+/- 0.00)\n",
      "Average AP score: 0.018 (+/- 0.00)\n"
     ]
    }
   ],
   "source": [
    "X = df_train[text]\n",
    "y = df_train.SH.values\n",
    "\n",
    "cv = StratifiedKFold(n_splits=10)\n",
    "\n",
    "vectorizer = get_vectorizer(vectorizer_mode, params)\n",
    "\n",
    "scores = {\"precision\" : [], \n",
    "          \"recall\" : [], \n",
    "          \"f1\" : [], \n",
    "          \"f2\" : [],\n",
    "          \"AP\" : []\n",
    "         }\n",
    "\n",
    "for train_index, val_index in cv.split(X, y):\n",
    "    vectorizer.fit(X[train_index], y[train_index])\n",
    "    SH_keywords = vectorizer.df_features.sort_values(by=\"p_value\")[:n_keywords].feature.tolist()\n",
    "    \n",
    "    y_pred = np.zeros_like(y[val_index])\n",
    "    y_pred[X[val_index].str.contains(\"|\".join(SH_keywords))] = 1\n",
    "    y_proba = pd.get_dummies(y_pred, drop_first=False).values\n",
    "    \n",
    "    scores[\"precision\"].append(precision_score(y[val_index], y_pred, average=\"binary\"))\n",
    "    scores[\"recall\"].append(recall_score(y[val_index], y_pred, average=\"binary\"))\n",
    "    scores[\"f1\"].append(f1_score(y[val_index], y_pred, average=\"binary\"))\n",
    "    scores[\"f2\"].append(fbeta_score(y[val_index], y_pred, beta=2, average=\"binary\"))\n",
    "    scores[\"AP\"].append(average_precision_score(y[val_index], y_proba[:,1]))\n",
    "    \n",
    "print(\"Average Precision: %0.3f (+/- %0.2f)\" % (np.mean(scores[\"precision\"]), \n",
    "                                                np.std(scores[\"precision\"]) * 2))\n",
    "print(\"Average Recall: %0.3f (+/- %0.2f)\" % (np.mean(scores[\"recall\"]), \n",
    "                                             np.std(scores[\"recall\"]) * 2))\n",
    "print(\"Average F1 score: %0.3f (+/- %0.2f)\" % (np.mean(scores[\"f1\"]), \n",
    "                                               np.std(scores[\"f1\"]) * 2))\n",
    "print(\"Average F2 score: %0.3f (+/- %0.2f)\" % (np.mean(scores[\"f2\"]), \n",
    "                                               np.std(scores[\"f2\"]) * 2))\n",
    "print(\"Average AP score: %0.3f (+/- %0.2f)\" % (np.mean(scores[\"AP\"]), \n",
    "                                               np.std(scores[\"AP\"]) * 2))"
   ]
  },
  {
   "cell_type": "code",
   "execution_count": 6,
   "metadata": {},
   "outputs": [
    {
     "data": {
      "text/plain": [
       "['x',\n",
       " 'polypharmacy',\n",
       " 'tablets',\n",
       " 'self_inflicted',\n",
       " 'polypharmacy_od',\n",
       " 'tabs',\n",
       " 'overdose',\n",
       " 'attempt',\n",
       " 'temazepam',\n",
       " 'mg',\n",
       " 'superficial_lacs',\n",
       " 'suicidal_intent',\n",
       " 'mg_diazepam',\n",
       " 'self_harm',\n",
       " 'seroquel',\n",
       " 'intentional_od',\n",
       " 'od',\n",
       " 'mg_x',\n",
       " 'intent',\n",
       " 'intentional']"
      ]
     },
     "execution_count": 6,
     "metadata": {},
     "output_type": "execute_result"
    }
   ],
   "source": [
    "SH_keywords"
   ]
  },
  {
   "cell_type": "code",
   "execution_count": 7,
   "metadata": {},
   "outputs": [
    {
     "name": "stdout",
     "output_type": "stream",
     "text": [
      "Extracting features by a chi-squared test with p-value < 0.00...\n",
      "Selected features: 1132\n",
      "\n"
     ]
    },
    {
     "data": {
      "text/plain": [
       "<nlp_utils.FeatureSelector at 0x7f3ede529320>"
      ]
     },
     "execution_count": 7,
     "metadata": {},
     "output_type": "execute_result"
    }
   ],
   "source": [
    "y_train = df_train.SH.values\n",
    "vectorizer = get_vectorizer(vectorizer_mode, params)\n",
    "vectorizer.fit(df_train[text], y_train)"
   ]
  },
  {
   "cell_type": "code",
   "execution_count": 5,
   "metadata": {},
   "outputs": [
    {
     "data": {
      "text/html": [
       "<div>\n",
       "<style scoped>\n",
       "    .dataframe tbody tr th:only-of-type {\n",
       "        vertical-align: middle;\n",
       "    }\n",
       "\n",
       "    .dataframe tbody tr th {\n",
       "        vertical-align: top;\n",
       "    }\n",
       "\n",
       "    .dataframe thead th {\n",
       "        text-align: right;\n",
       "    }\n",
       "</style>\n",
       "<table border=\"1\" class=\"dataframe\">\n",
       "  <thead>\n",
       "    <tr style=\"text-align: right;\">\n",
       "      <th></th>\n",
       "      <th>feature</th>\n",
       "      <th>p_value</th>\n",
       "      <th>y</th>\n",
       "    </tr>\n",
       "  </thead>\n",
       "  <tbody>\n",
       "    <tr>\n",
       "      <th>32</th>\n",
       "      <td>+ acid</td>\n",
       "      <td>9.562856e-04</td>\n",
       "      <td>1</td>\n",
       "    </tr>\n",
       "    <tr>\n",
       "      <th>50</th>\n",
       "      <td>+ aggressive</td>\n",
       "      <td>4.040876e-05</td>\n",
       "      <td>1</td>\n",
       "    </tr>\n",
       "    <tr>\n",
       "      <th>133</th>\n",
       "      <td>+ beers</td>\n",
       "      <td>7.998231e-06</td>\n",
       "      <td>1</td>\n",
       "    </tr>\n",
       "    <tr>\n",
       "      <th>171</th>\n",
       "      <td>+ bottle</td>\n",
       "      <td>8.208812e-20</td>\n",
       "      <td>1</td>\n",
       "    </tr>\n",
       "    <tr>\n",
       "      <th>172</th>\n",
       "      <td>+ bottles</td>\n",
       "      <td>1.024846e-12</td>\n",
       "      <td>1</td>\n",
       "    </tr>\n",
       "    <tr>\n",
       "      <th>...</th>\n",
       "      <td>...</td>\n",
       "      <td>...</td>\n",
       "      <td>...</td>\n",
       "    </tr>\n",
       "    <tr>\n",
       "      <th>310861</th>\n",
       "      <td>zolpidem mg</td>\n",
       "      <td>3.568205e-04</td>\n",
       "      <td>1</td>\n",
       "    </tr>\n",
       "    <tr>\n",
       "      <th>310873</th>\n",
       "      <td>zone hs</td>\n",
       "      <td>8.110904e-05</td>\n",
       "      <td>1</td>\n",
       "    </tr>\n",
       "    <tr>\n",
       "      <th>310891</th>\n",
       "      <td>zopiclone mg</td>\n",
       "      <td>8.374534e-25</td>\n",
       "      <td>1</td>\n",
       "    </tr>\n",
       "    <tr>\n",
       "      <th>310892</th>\n",
       "      <td>zopiclone x</td>\n",
       "      <td>1.394697e-37</td>\n",
       "      <td>1</td>\n",
       "    </tr>\n",
       "    <tr>\n",
       "      <th>310914</th>\n",
       "      <td>zyprexa x</td>\n",
       "      <td>8.652554e-06</td>\n",
       "      <td>1</td>\n",
       "    </tr>\n",
       "  </tbody>\n",
       "</table>\n",
       "<p>5534 rows × 3 columns</p>\n",
       "</div>"
      ],
      "text/plain": [
       "             feature       p_value  y\n",
       "32            + acid  9.562856e-04  1\n",
       "50      + aggressive  4.040876e-05  1\n",
       "133          + beers  7.998231e-06  1\n",
       "171         + bottle  8.208812e-20  1\n",
       "172        + bottles  1.024846e-12  1\n",
       "...              ...           ... ..\n",
       "310861   zolpidem mg  3.568205e-04  1\n",
       "310873       zone hs  8.110904e-05  1\n",
       "310891  zopiclone mg  8.374534e-25  1\n",
       "310892   zopiclone x  1.394697e-37  1\n",
       "310914     zyprexa x  8.652554e-06  1\n",
       "\n",
       "[5534 rows x 3 columns]"
      ]
     },
     "execution_count": 5,
     "metadata": {},
     "output_type": "execute_result"
    }
   ],
   "source": [
    "vectorizer.df_features"
   ]
  },
  {
   "cell_type": "code",
   "execution_count": 6,
   "metadata": {},
   "outputs": [
    {
     "data": {
      "text/plain": [
       "['polypharmacy od',\n",
       " 'mg diazepam',\n",
       " 'inflicted lac',\n",
       " 'self harm',\n",
       " 'intentional od',\n",
       " 'taken x',\n",
       " 'od x',\n",
       " 'suicidal intent',\n",
       " 'self inflicted',\n",
       " 'mg x']"
      ]
     },
     "execution_count": 6,
     "metadata": {},
     "output_type": "execute_result"
    }
   ],
   "source": [
    "SH_keywords = vectorizer.df_features.sort_values(by=\"p_value\")[:n_keywords].feature.tolist()\n",
    "SH_keywords"
   ]
  },
  {
   "cell_type": "code",
   "execution_count": null,
   "metadata": {},
   "outputs": [],
   "source": [
    "[print('\"' + word + '\",') for word in SH_keywords]"
   ]
  },
  {
   "cell_type": "code",
   "execution_count": 9,
   "metadata": {},
   "outputs": [
    {
     "data": {
      "text/html": [
       "<div>\n",
       "<style scoped>\n",
       "    .dataframe tbody tr th:only-of-type {\n",
       "        vertical-align: middle;\n",
       "    }\n",
       "\n",
       "    .dataframe tbody tr th {\n",
       "        vertical-align: top;\n",
       "    }\n",
       "\n",
       "    .dataframe thead th {\n",
       "        text-align: right;\n",
       "    }\n",
       "</style>\n",
       "<table border=\"1\" class=\"dataframe\">\n",
       "  <thead>\n",
       "    <tr style=\"text-align: right;\">\n",
       "      <th></th>\n",
       "      <th>feature</th>\n",
       "      <th>p_value</th>\n",
       "      <th>y</th>\n",
       "    </tr>\n",
       "  </thead>\n",
       "  <tbody>\n",
       "    <tr>\n",
       "      <th>207262</th>\n",
       "      <td>polypharmacy od</td>\n",
       "      <td>0.000000e+00</td>\n",
       "      <td>1</td>\n",
       "    </tr>\n",
       "    <tr>\n",
       "      <th>162714</th>\n",
       "      <td>mg diazepam</td>\n",
       "      <td>0.000000e+00</td>\n",
       "      <td>1</td>\n",
       "    </tr>\n",
       "    <tr>\n",
       "      <th>134042</th>\n",
       "      <td>inflicted lac</td>\n",
       "      <td>0.000000e+00</td>\n",
       "      <td>1</td>\n",
       "    </tr>\n",
       "    <tr>\n",
       "      <th>242645</th>\n",
       "      <td>self harm</td>\n",
       "      <td>0.000000e+00</td>\n",
       "      <td>1</td>\n",
       "    </tr>\n",
       "    <tr>\n",
       "      <th>137831</th>\n",
       "      <td>intentional od</td>\n",
       "      <td>0.000000e+00</td>\n",
       "      <td>1</td>\n",
       "    </tr>\n",
       "    <tr>\n",
       "      <th>...</th>\n",
       "      <td>...</td>\n",
       "      <td>...</td>\n",
       "      <td>...</td>\n",
       "    </tr>\n",
       "    <tr>\n",
       "      <th>63020</th>\n",
       "      <td>day initally</td>\n",
       "      <td>5.537268e-13</td>\n",
       "      <td>1</td>\n",
       "    </tr>\n",
       "    <tr>\n",
       "      <th>128237</th>\n",
       "      <td>hypotensive desats</td>\n",
       "      <td>5.537268e-13</td>\n",
       "      <td>1</td>\n",
       "    </tr>\n",
       "    <tr>\n",
       "      <th>9459</th>\n",
       "      <td>aggressive hypotensive</td>\n",
       "      <td>5.537268e-13</td>\n",
       "      <td>1</td>\n",
       "    </tr>\n",
       "    <tr>\n",
       "      <th>162676</th>\n",
       "      <td>mg b/g</td>\n",
       "      <td>5.550606e-13</td>\n",
       "      <td>1</td>\n",
       "    </tr>\n",
       "    <tr>\n",
       "      <th>207266</th>\n",
       "      <td>polypharmacy valium</td>\n",
       "      <td>5.565522e-13</td>\n",
       "      <td>1</td>\n",
       "    </tr>\n",
       "  </tbody>\n",
       "</table>\n",
       "<p>1335 rows × 3 columns</p>\n",
       "</div>"
      ],
      "text/plain": [
       "                       feature       p_value  y\n",
       "207262         polypharmacy od  0.000000e+00  1\n",
       "162714             mg diazepam  0.000000e+00  1\n",
       "134042           inflicted lac  0.000000e+00  1\n",
       "242645               self harm  0.000000e+00  1\n",
       "137831          intentional od  0.000000e+00  1\n",
       "...                        ...           ... ..\n",
       "63020             day initally  5.537268e-13  1\n",
       "128237      hypotensive desats  5.537268e-13  1\n",
       "9459    aggressive hypotensive  5.537268e-13  1\n",
       "162676                  mg b/g  5.550606e-13  1\n",
       "207266     polypharmacy valium  5.565522e-13  1\n",
       "\n",
       "[1335 rows x 3 columns]"
      ]
     },
     "execution_count": 9,
     "metadata": {},
     "output_type": "execute_result"
    }
   ],
   "source": [
    "vectorizer.df_features.sort_values(by=\"p_value\")[:1335]"
   ]
  },
  {
   "cell_type": "code",
   "execution_count": 8,
   "metadata": {},
   "outputs": [
    {
     "data": {
      "text/plain": [
       "array([22671, 55215])"
      ]
     },
     "execution_count": 8,
     "metadata": {},
     "output_type": "execute_result"
    }
   ],
   "source": [
    "df_test = pd.read_csv(\"./data/rmh_test.csv\")\n",
    "y_test = df_test.SH.values\n",
    "\n",
    "y_pred = np.zeros_like(y_test)\n",
    "y_pred[df_test[text].str.contains(\"|\".join(SH_keywords))] = 1\n",
    "np.bincount(y_pred)"
   ]
  },
  {
   "cell_type": "code",
   "execution_count": 9,
   "metadata": {},
   "outputs": [
    {
     "name": "stdout",
     "output_type": "stream",
     "text": [
      "Model evaluation on the test set\n",
      "\n",
      "Classification report:\n",
      "              precision    recall  f1-score   support\n",
      "\n",
      "           0      0.998     0.294     0.454     76850\n",
      "           1      0.018     0.946     0.035      1036\n",
      "\n",
      "    accuracy                          0.303     77886\n",
      "   macro avg      0.508     0.620     0.245     77886\n",
      "weighted avg      0.984     0.303     0.449     77886\n",
      "\n",
      "binary F2: 0.083\n",
      "Average precision score: 0.018\n"
     ]
    },
    {
     "name": "stderr",
     "output_type": "stream",
     "text": [
      "/projects/orygen/code/sh_env/lib64/python3.6/site-packages/seaborn/_decorators.py:43: FutureWarning: Pass the following variables as keyword args: x, y. From version 0.12, the only valid positional argument will be `data`, and passing other arguments without an explicit keyword will result in an error or misinterpretation.\n",
      "  FutureWarning\n",
      "/projects/orygen/code/sh_env/lib64/python3.6/site-packages/seaborn/_decorators.py:43: FutureWarning: Pass the following variables as keyword args: x, y. From version 0.12, the only valid positional argument will be `data`, and passing other arguments without an explicit keyword will result in an error or misinterpretation.\n",
      "  FutureWarning\n",
      "/projects/orygen/code/sh_env/lib64/python3.6/site-packages/seaborn/_decorators.py:43: FutureWarning: Pass the following variables as keyword args: x, y. From version 0.12, the only valid positional argument will be `data`, and passing other arguments without an explicit keyword will result in an error or misinterpretation.\n",
      "  FutureWarning\n",
      "/projects/orygen/code/sh_env/lib64/python3.6/site-packages/seaborn/_decorators.py:43: FutureWarning: Pass the following variables as keyword args: x, y. From version 0.12, the only valid positional argument will be `data`, and passing other arguments without an explicit keyword will result in an error or misinterpretation.\n",
      "  FutureWarning\n"
     ]
    },
    {
     "data": {
      "image/png": "[encoded data removed]",
      "text/plain": [
       "<Figure size 432x288 with 1 Axes>"
      ]
     },
     "metadata": {
      "needs_background": "light"
     },
     "output_type": "display_data"
    },
    {
     "data": {
      "image/png": "[encoded data removed]",
      "text/plain": [
       "<Figure size 432x288 with 1 Axes>"
      ]
     },
     "metadata": {
      "needs_background": "light"
     },
     "output_type": "display_data"
    },
    {
     "data": {
      "image/png": "[encoded data removed]",
      "text/plain": [
       "<Figure size 432x288 with 1 Axes>"
      ]
     },
     "metadata": {
      "needs_background": "light"
     },
     "output_type": "display_data"
    }
   ],
   "source": [
    "y_proba = pd.get_dummies(y_pred, drop_first=False).values\n",
    "utils.evaluate_model(y_test, y_proba, class_names, \"test\", digits=3, save_figures=False)"
   ]
  }
 ],
 "metadata": {
  "kernelspec": {
   "display_name": "Python 3",
   "language": "python",
   "name": "python3"
  },
  "language_info": {
   "codemirror_mode": {
    "name": "ipython",
    "version": 3
   },
   "file_extension": ".py",
   "mimetype": "text/x-python",
   "name": "python",
   "nbconvert_exporter": "python",
   "pygments_lexer": "ipython3",
   "version": "3.9.2"
  }
 },
 "nbformat": 4,
 "nbformat_minor": 4
}
