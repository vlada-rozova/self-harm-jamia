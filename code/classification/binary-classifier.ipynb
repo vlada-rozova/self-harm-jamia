{
 "cells": [
  {
   "cell_type": "code",
   "execution_count": 1,
   "metadata": {},
   "outputs": [
    {
     "name": "stderr",
     "output_type": "stream",
     "text": [
      "[nltk_data] Downloading package stopwords to\n",
      "[nltk_data]     /home/vrozova/nltk_data...\n",
      "[nltk_data]   Package stopwords is already up-to-date!\n"
     ]
    }
   ],
   "source": [
    "import pandas as pd\n",
    "import numpy as np\n",
    "import re\n",
    "from time import time\n",
    "\n",
    "from sklearn.feature_extraction.text import TfidfVectorizer \n",
    "from sklearn.model_selection import StratifiedKFold\n",
    "\n",
    "from sklearn.svm import SVC\n",
    "from sklearn.linear_model import LogisticRegression\n",
    "from sklearn.naive_bayes import MultinomialNB, ComplementNB\n",
    "from sklearn.ensemble import RandomForestClassifier, GradientBoostingClassifier\n",
    "from sklearn.tree import DecisionTreeClassifier\n",
    "from sklearn.neighbors import KNeighborsClassifier\n",
    "from xgboost import XGBClassifier\n",
    "\n",
    "from sklearn.pipeline import make_pipeline\n",
    "from sklearn.metrics import make_scorer, average_precision_score, precision_recall_curve\n",
    "\n",
    "from sklearn.calibration import CalibratedClassifierCV, calibration_curve\n",
    "\n",
    "import matplotlib.pyplot as plt\n",
    "import seaborn as sns\n",
    "\n",
    "import nlp_utils as utils\n",
    "from nlp_utils import get_vectorizer\n",
    "\n",
    "# from lime import lime_text\n",
    "# import warnings\n",
    "# warnings.filterwarnings(\"ignore\", category=FutureWarning)\n",
    "\n",
    "pd.options.display.max_colwidth = 100\n",
    "\n",
    "# Pretty plots\n",
    "%matplotlib inline\n",
    "plt.style.use('seaborn-ticks')\n",
    "sns.set_style('ticks')\n",
    "plt.rcParams['figure.figsize'] = (7, 5)\n",
    "plt.rcParams['axes.titlesize'] = 22\n",
    "plt.rcParams['axes.labelsize'] = 20\n",
    "plt.rcParams['xtick.labelsize'] = 16\n",
    "plt.rcParams['ytick.labelsize'] = 16\n",
    "\n",
    "# Display wide columns\n",
    "pd.options.display.max_colwidth = 100"
   ]
  },
  {
   "cell_type": "markdown",
   "metadata": {},
   "source": [
    "___\n",
    "# SH vs Controls (excl. SI)\n",
    "\n",
    "Train on RMH dataset using only SH cases and controls. Test the final model on SI cases."
   ]
  },
  {
   "cell_type": "markdown",
   "metadata": {},
   "source": [
    "### Load data and create training and test sets"
   ]
  },
  {
   "cell_type": "code",
   "execution_count": 2,
   "metadata": {},
   "outputs": [],
   "source": [
    "# Set up\n",
    "text = \"entities\"\n",
    "class_names = (\"Controls\", \"Self-harm\")\n",
    "    \n",
    "# Undersampling\n",
    "undersample = False\n",
    "n_controls = 10000\n",
    "\n",
    "# Parameters of feature extraction\n",
    "vectorizer_mode = \"select features\"\n",
    "params = {'analyzer' : \"word\",\n",
    "          'ngram_range' : (1,1),\n",
    "          'use_idf' : True,\n",
    "          'mode' : \"select by pvalue\",\n",
    "          'thresh' : 0.001}\n",
    "\n",
    "reduce_dim = False\n",
    "lsa_method = \"svd\"\n",
    "n_components = 100\n",
    "\n",
    "add_length = False # no effect"
   ]
  },
  {
   "cell_type": "code",
   "execution_count": 3,
   "metadata": {},
   "outputs": [
    {
     "data": {
      "text/plain": [
       "0    307875\n",
       "1      4302\n",
       "Name: SH, dtype: int64"
      ]
     },
     "execution_count": 3,
     "metadata": {},
     "output_type": "execute_result"
    }
   ],
   "source": [
    "df_train = pd.read_csv(\"../data/rmh_train.csv\")\n",
    "if undersample:\n",
    "    df_train = pd.concat([df_train[df_train.SH == 0].sample(n_controls, random_state=42), \n",
    "                          df_train[df_train.SH\n",
    "                                   != 0]], \n",
    "                         axis=0)\n",
    "\n",
    "df_train.SH.value_counts()"
   ]
  },
  {
   "cell_type": "code",
   "execution_count": 4,
   "metadata": {},
   "outputs": [],
   "source": [
    "y_train = df_train.SH.values"
   ]
  },
  {
   "cell_type": "markdown",
   "metadata": {},
   "source": [
    "### Model development"
   ]
  },
  {
   "cell_type": "code",
   "execution_count": null,
   "metadata": {},
   "outputs": [],
   "source": [
    "vectorizer = get_vectorizer(vectorizer_mode, params)\n",
    "\n",
    "clfs = (\n",
    "    MultinomialNB(),\n",
    "    LogisticRegression(solver='lbfgs', max_iter=1000, class_weight=\"balanced\"),\n",
    "#     KNeighborsClassifier(),\n",
    "#     RandomForestClassifier(class_weight=\"balanced\"),\n",
    "    XGBClassifier(objective=\"binary:logistic\"),\n",
    "#     CalibratedClassifierCV(XGBClassifier(objective=\"binary:logistic\"),\n",
    "#                            method='isotonic', cv=3),\n",
    "#     CalibratedClassifierCV(XGBClassifier(objective=\"binary:logistic\", **tuned_params),\n",
    "#                            method='isotonic', cv=3),\n",
    ")"
   ]
  },
  {
   "cell_type": "code",
   "execution_count": null,
   "metadata": {
    "scrolled": false
   },
   "outputs": [],
   "source": [
    "%%time\n",
    "for clf in clfs:\n",
    "    pipe = make_pipeline(vectorizer, clf)\n",
    "    scores = utils.benchmark_cv_score(pipe, df_train[text], y_train, class_names)"
   ]
  },
  {
   "cell_type": "markdown",
   "metadata": {},
   "source": [
    "### Hyperparameter tuning"
   ]
  },
  {
   "cell_type": "code",
   "execution_count": null,
   "metadata": {},
   "outputs": [],
   "source": [
    "n_estimators = [100, 200, 300, 400]\n",
    "\n",
    "param_grid = {\"calibratedclassifiercv__base_estimator__n_estimators\": n_estimators}\n",
    "\n",
    "vectorizer = get_vectorizer(vectorizer_mode, params)\n",
    "clf = CalibratedClassifierCV(XGBClassifier(objective=\"binary:logistic\", \n",
    "                                           use_label_encoder=False), \n",
    "                             method='isotonic', cv=3)\n",
    "pipe = make_pipeline(vectorizer, clf)\n",
    "\n",
    "utils.grid_search_cv(pipe, df_train[text], y_train, \n",
    "                     param_grid, scoring=\"average_precision\")"
   ]
  },
  {
   "cell_type": "code",
   "execution_count": null,
   "metadata": {
    "scrolled": false
   },
   "outputs": [],
   "source": [
    "max_depth = [2, 4, 6, 8]\n",
    "learning_rate = [0.0001, 0.001, 0.01, 0.1, 0.2, 0.3, 0.4]\n",
    "subsample = [0.3, 0.5, 0.8, 1.0]\n",
    "scale_pos_weight = [1, 10, 50, 100]\n",
    "\n",
    "param_grid = {\"calibratedclassifiercv__base_estimator__max_depth\": max_depth, \n",
    "              \"calibratedclassifiercv__base_estimator__learning_rate\": learning_rate, \n",
    "              \"calibratedclassifiercv__base_estimator__subsample\": subsample, \n",
    "              \"calibratedclassifiercv__base_estimator__scale_pos_weight\": scale_pos_weight\n",
    "             }\n",
    "\n",
    "vectorizer = get_vectorizer(vectorizer_mode, params)\n",
    "clf = CalibratedClassifierCV(XGBClassifier(objective=\"binary:logistic\", \n",
    "                                           n_estimators=300, \n",
    "                                           use_label_encoder=False), \n",
    "                             method='isotonic', cv=3)\n",
    "pipe = make_pipeline(vectorizer, clf)\n",
    "\n",
    "utils.random_search_cv(pipe, df_train[text], y_train, \n",
    "                       param_grid, scoring=\"average_precision\")"
   ]
  },
  {
   "cell_type": "code",
   "execution_count": 5,
   "metadata": {},
   "outputs": [],
   "source": [
    "# Calibrated XGB on entities:\n",
    "tuned_params = {'n_estimators': 300,\n",
    "                'subsample': 1.0, \n",
    "                'scale_pos_weight': 1, \n",
    "                'max_depth': 6, \n",
    "                'learning_rate': 0.2}\n",
    "# Calibrated XGB on negated entities:\n",
    "# tuned_params = {'n_estimators': 300,\n",
    "#                 'subsample': 1.0, \n",
    "#                 'scale_pos_weight': 1, \n",
    "#                 'max_depth': 8, \n",
    "#                 'learning_rate': 0.3}\n",
    "# Calibrated XGB on linked entities:\n",
    "# tuned_params = {'n_estimators': 200, \n",
    "#                 'subsample': 0.8, \n",
    "#                 'scale_pos_weight': 1, \n",
    "#                 'max_depth': 8, \n",
    "#                 'learning_rate': 0.2}\n",
    "# Calibrated XGB on negated linked entities:\n",
    "# tuned_params = {'n_estimators': 300, \n",
    "#                 'subsample': 1.0, \n",
    "#                 'scale_pos_weight': 1, \n",
    "#                 'max_depth': 6, \n",
    "#                 'learning_rate': 0.2}"
   ]
  },
  {
   "cell_type": "markdown",
   "metadata": {},
   "source": [
    "### Calibration"
   ]
  },
  {
   "cell_type": "code",
   "execution_count": 6,
   "metadata": {},
   "outputs": [],
   "source": [
    "vectorizer = get_vectorizer(vectorizer_mode, params)\n",
    "\n",
    "clf = XGBClassifier(objective=\"binary:logistic\",use_label_encoder=False)\n",
    "calibrated_clf = CalibratedClassifierCV(XGBClassifier(objective=\"binary:logistic\", use_label_encoder=False),\n",
    "                                        method='isotonic', cv=3)\n",
    "\n",
    "pipe = make_pipeline(vectorizer, clf)\n",
    "calibrated_pipe = make_pipeline(vectorizer, calibrated_clf)"
   ]
  },
  {
   "cell_type": "markdown",
   "metadata": {},
   "source": [
    "**Run cross validation to calibrate the model and select threshold**"
   ]
  },
  {
   "cell_type": "code",
   "execution_count": null,
   "metadata": {
    "scrolled": false
   },
   "outputs": [],
   "source": [
    "y_proba = utils.benchmark_cv(pipe, df_train[text], y_train, class_names)"
   ]
  },
  {
   "cell_type": "code",
   "execution_count": null,
   "metadata": {
    "scrolled": false
   },
   "outputs": [],
   "source": [
    "y_proba_c = utils.benchmark_cv(calibrated_pipe, df_train[text], y_train, class_names)"
   ]
  },
  {
   "cell_type": "markdown",
   "metadata": {},
   "source": [
    "**Calibration plot**"
   ]
  },
  {
   "cell_type": "code",
   "execution_count": null,
   "metadata": {},
   "outputs": [],
   "source": [
    "sns.lineplot(x=[0, 1], y=[0, 1], color=sns.color_palette()[0], lw=2, linestyle='--', label=\"Perfectly calibrated\")\n",
    "\n",
    "fop, mpv = calibration_curve(y_train, y_proba[:,1], n_bins=30, normalize=False)\n",
    "sns.lineplot(x=mpv, y=fop, \n",
    "             lw=3, marker='.', markersize=15, \n",
    "             color=sns.color_palette()[1],\n",
    "             label=\"Uncalibrated\");\n",
    "\n",
    "fop, mpv = calibration_curve(y_train, y_proba_c[:,1], n_bins=30, normalize=False)\n",
    "sns.lineplot(x=mpv, y=fop, \n",
    "             lw=3, marker='.', markersize=15, \n",
    "             color=sns.color_palette()[2],\n",
    "             label=\"Calibrated\");\n",
    "\n",
    "plt.legend(fontsize=16, loc=\"upper left\");\n",
    "plt.xlabel(\"Mean predicted value\");\n",
    "plt.ylabel(\"Fraction of positives\");\n",
    "\n",
    "plt.savefig(\"./results/xgboost_calibration.png\", bbox_inches='tight', dpi=300, pad_inches=0);"
   ]
  },
  {
   "cell_type": "code",
   "execution_count": null,
   "metadata": {},
   "outputs": [],
   "source": [
    "sns.histplot(y_proba[:,1], bins=10, stat=\"count\", \n",
    "             color=sns.color_palette()[1], lw=3, fill=False, \n",
    "             label=\"Uncalibrated\");\n",
    "sns.histplot(y_proba_c[:,1], bins=10, stat=\"count\", \n",
    "             color=sns.color_palette()[2], lw=3, fill=False, \n",
    "             label=\"Calibrated\");\n",
    "plt.ylim([0, 2600]);\n",
    "plt.legend(fontsize=16, loc=\"upper right\");\n",
    "plt.xlabel(\"Mean predicted value\");\n",
    "\n",
    "plt.savefig(\"./results/xgboost_probabilities.png\", bbox_inches='tight', dpi=300, pad_inches=0);"
   ]
  },
  {
   "cell_type": "markdown",
   "metadata": {},
   "source": [
    "### Threshold selection"
   ]
  },
  {
   "cell_type": "code",
   "execution_count": null,
   "metadata": {},
   "outputs": [],
   "source": [
    "def select_threshold(y_train, y_proba):\n",
    "    precision, recall, thresholds = precision_recall_curve(y_train, y_proba[:,1])\n",
    "    fscore = (2 * precision * recall) / (precision + recall)\n",
    "    idx = np.argmax(fscore)\n",
    "    thresh = thresholds[idx]\n",
    "    print('Best threshold is %.3f, F1 score=%.3f' % (thresh, fscore[idx]))\n",
    "    return thresh"
   ]
  },
  {
   "cell_type": "code",
   "execution_count": null,
   "metadata": {
    "scrolled": true
   },
   "outputs": [],
   "source": [
    "vectorizer = get_vectorizer(vectorizer_mode, params)\n",
    "clf = CalibratedClassifierCV(XGBClassifier(objective=\"binary:logistic\", \n",
    "                                           use_label_encoder=False, \n",
    "                                           **tuned_params), \n",
    "                                        method='isotonic', cv=3)\n",
    "pipe = make_pipeline(vectorizer, clf)\n",
    "y_proba = utils.benchmark_cv(pipe, df_train[text], y_train, class_names)"
   ]
  },
  {
   "cell_type": "code",
   "execution_count": null,
   "metadata": {},
   "outputs": [],
   "source": [
    "thresh = select_threshold(y_train, y_proba)"
   ]
  },
  {
   "cell_type": "markdown",
   "metadata": {},
   "source": [
    "### Evaluation of the final model"
   ]
  },
  {
   "cell_type": "code",
   "execution_count": 7,
   "metadata": {},
   "outputs": [],
   "source": [
    "thresh = 0.322\n",
    "vectorizer = get_vectorizer(vectorizer_mode, params)\n",
    "clf = CalibratedClassifierCV(XGBClassifier(objective=\"binary:logistic\", \n",
    "                                           use_label_encoder=False, \n",
    "                                           **tuned_params), \n",
    "                                        method='isotonic', cv=3)\n",
    "pipe = make_pipeline(vectorizer, clf)"
   ]
  },
  {
   "cell_type": "markdown",
   "metadata": {},
   "source": [
    "**Test set**"
   ]
  },
  {
   "cell_type": "code",
   "execution_count": 8,
   "metadata": {},
   "outputs": [
    {
     "name": "stdout",
     "output_type": "stream",
     "text": [
      "Extracting features by a chi-squared test with p-value < 0.00...\n",
      "Selected features: 970\n",
      "\n",
      "[16:15:59] WARNING: ../src/learner.cc:1115: Starting in XGBoost 1.3.0, the default evaluation metric used with the objective 'binary:logistic' was changed from 'error' to 'logloss'. Explicitly set eval_metric if you'd like to restore the old behavior.\n",
      "[16:17:04] WARNING: ../src/learner.cc:1115: Starting in XGBoost 1.3.0, the default evaluation metric used with the objective 'binary:logistic' was changed from 'error' to 'logloss'. Explicitly set eval_metric if you'd like to restore the old behavior.\n",
      "[16:18:09] WARNING: ../src/learner.cc:1115: Starting in XGBoost 1.3.0, the default evaluation metric used with the objective 'binary:logistic' was changed from 'error' to 'logloss'. Explicitly set eval_metric if you'd like to restore the old behavior.\n"
     ]
    },
    {
     "data": {
      "text/plain": [
       "Pipeline(steps=[('featureselector',\n",
       "                 <nlp_utils.FeatureSelector object at 0x7fef8ab75f28>),\n",
       "                ('calibratedclassifiercv',\n",
       "                 CalibratedClassifierCV(base_estimator=XGBClassifier(base_score=None,\n",
       "                                                                     booster=None,\n",
       "                                                                     colsample_bylevel=None,\n",
       "                                                                     colsample_bynode=None,\n",
       "                                                                     colsample_bytree=None,\n",
       "                                                                     enable_categorical=False,\n",
       "                                                                     gamma=None,\n",
       "                                                                     gpu_id=None,\n",
       "                                                                     importance_type=None,\n",
       "                                                                     interaction_constrain...\n",
       "                                                                     learning_rate=0.2,\n",
       "                                                                     max_delta_step=None,\n",
       "                                                                     max_depth=6,\n",
       "                                                                     min_child_weight=None,\n",
       "                                                                     missing=nan,\n",
       "                                                                     monotone_constraints=None,\n",
       "                                                                     n_estimators=300,\n",
       "                                                                     n_jobs=None,\n",
       "                                                                     num_parallel_tree=None,\n",
       "                                                                     predictor=None,\n",
       "                                                                     random_state=None,\n",
       "                                                                     reg_alpha=None,\n",
       "                                                                     reg_lambda=None,\n",
       "                                                                     scale_pos_weight=1,\n",
       "                                                                     subsample=1.0,\n",
       "                                                                     tree_method=None,\n",
       "                                                                     use_label_encoder=False,\n",
       "                                                                     validate_parameters=None,\n",
       "                                                                     verbosity=None),\n",
       "                                        cv=3, method='isotonic'))])"
      ]
     },
     "execution_count": 8,
     "metadata": {},
     "output_type": "execute_result"
    }
   ],
   "source": [
    "pipe.fit(df_train[text], y_train)"
   ]
  },
  {
   "cell_type": "code",
   "execution_count": 26,
   "metadata": {},
   "outputs": [
    {
     "data": {
      "text/plain": [
       "['../models/self-harm-nlp-classifier-final-xgboost.sav']"
      ]
     },
     "execution_count": 26,
     "metadata": {},
     "output_type": "execute_result"
    }
   ],
   "source": [
    "import joblib\n",
    "\n",
    "filename = '../models/self-harm-nlp-classifier-final-xgboost.sav'\n",
    "joblib.dump(pipe[1], filename)"
   ]
  },
  {
   "cell_type": "code",
   "execution_count": 5,
   "metadata": {},
   "outputs": [
    {
     "data": {
      "text/plain": [
       "Pipeline(steps=[('featureselector',\n",
       "                 <nlp_utils.FeatureSelector object at 0x7fe7b06e67b8>),\n",
       "                ('calibratedclassifiercv',\n",
       "                 CalibratedClassifierCV(base_estimator=XGBClassifier(base_score=None,\n",
       "                                                                     booster=None,\n",
       "                                                                     colsample_bylevel=None,\n",
       "                                                                     colsample_bynode=None,\n",
       "                                                                     colsample_bytree=None,\n",
       "                                                                     gamma=None,\n",
       "                                                                     gpu_id=None,\n",
       "                                                                     importance_type='gain',\n",
       "                                                                     interaction_constraints=None,\n",
       "                                                                     learning_rate=0.2,\n",
       "                                                                     max_delta_step=None,\n",
       "                                                                     max_depth=6,\n",
       "                                                                     min_child_weight=None,\n",
       "                                                                     missing=nan,\n",
       "                                                                     monotone_constraints=None,\n",
       "                                                                     n_estimators=300,\n",
       "                                                                     n_jobs=None,\n",
       "                                                                     num_parallel_tree=None,\n",
       "                                                                     random_state=None,\n",
       "                                                                     reg_alpha=None,\n",
       "                                                                     reg_lambda=None,\n",
       "                                                                     scale_pos_weight=1,\n",
       "                                                                     subsample=1.0,\n",
       "                                                                     tree_method=None,\n",
       "                                                                     use_label_encoder=False,\n",
       "                                                                     validate_parameters=None,\n",
       "                                                                     verbosity=None),\n",
       "                                        cv=3, method='isotonic'))])"
      ]
     },
     "execution_count": 5,
     "metadata": {},
     "output_type": "execute_result"
    }
   ],
   "source": [
    "import joblib\n",
    "\n",
    "filename = '../models/self-harm-nlp-classifier-final-pipe.sav'\n",
    "\n",
    "pipe = joblib.load(filename)\n",
    "pipe"
   ]
  },
  {
   "cell_type": "code",
   "execution_count": 9,
   "metadata": {},
   "outputs": [
    {
     "data": {
      "text/plain": [
       "(57681, 5)"
      ]
     },
     "execution_count": 9,
     "metadata": {},
     "output_type": "execute_result"
    }
   ],
   "source": [
    "df_test = pd.read_csv(\"../data/epic2020_prepared_ents.csv\")\n",
    "df_test.shape"
   ]
  },
  {
   "cell_type": "code",
   "execution_count": 11,
   "metadata": {},
   "outputs": [],
   "source": [
    "y_proba = pipe.predict_proba(df_test[text])"
   ]
  },
  {
   "cell_type": "code",
   "execution_count": 21,
   "metadata": {},
   "outputs": [],
   "source": [
    "thresh = 0.322\n",
    "df_test['y_pred'] = np.where(y_proba[:,-1] > thresh, 1, 0)"
   ]
  },
  {
   "cell_type": "code",
   "execution_count": 23,
   "metadata": {},
   "outputs": [
    {
     "data": {
      "text/plain": [
       "0    98.656403\n",
       "1     1.343597\n",
       "Name: y_pred, dtype: float64"
      ]
     },
     "execution_count": 23,
     "metadata": {},
     "output_type": "execute_result"
    }
   ],
   "source": [
    "df_test.y_pred.value_counts() / df_test.shape[0] * 100"
   ]
  },
  {
   "cell_type": "code",
   "execution_count": 24,
   "metadata": {},
   "outputs": [
    {
     "data": {
      "image/png": "[encoded data removed]",
      "text/plain": [
       "<Figure size 504x360 with 1 Axes>"
      ]
     },
     "metadata": {},
     "output_type": "display_data"
    }
   ],
   "source": [
    "df_test.timestamp = pd.to_datetime(df_test.timestamp)\n",
    "sns.countplot(x=df_test[df_test.y_pred==1].timestamp.dt.month);\n",
    "plt.xlabel(\"Month\");"
   ]
  },
  {
   "cell_type": "code",
   "execution_count": 10,
   "metadata": {},
   "outputs": [
    {
     "ename": "AttributeError",
     "evalue": "'DataFrame' object has no attribute 'SH'",
     "output_type": "error",
     "traceback": [
      "\u001b[0;31m---------------------------------------------------------------------------\u001b[0m",
      "\u001b[0;31mAttributeError\u001b[0m                            Traceback (most recent call last)",
      "\u001b[0;32m<ipython-input-10-3e5d09be0f8a>\u001b[0m in \u001b[0;36m<module>\u001b[0;34m\u001b[0m\n\u001b[0;32m----> 1\u001b[0;31m \u001b[0my_test\u001b[0m \u001b[0;34m=\u001b[0m \u001b[0mdf_test\u001b[0m\u001b[0;34m.\u001b[0m\u001b[0mSH\u001b[0m\u001b[0;34m.\u001b[0m\u001b[0mvalues\u001b[0m\u001b[0;34m\u001b[0m\u001b[0;34m\u001b[0m\u001b[0m\n\u001b[0m\u001b[1;32m      2\u001b[0m \u001b[0mdf_test\u001b[0m\u001b[0;34m.\u001b[0m\u001b[0mSH\u001b[0m\u001b[0;34m.\u001b[0m\u001b[0mvalue_counts\u001b[0m\u001b[0;34m(\u001b[0m\u001b[0;34m)\u001b[0m\u001b[0;34m\u001b[0m\u001b[0;34m\u001b[0m\u001b[0m\n",
      "\u001b[0;32m/projects/orygen/code/sh_env_updated/lib/python3.6/site-packages/pandas/core/generic.py\u001b[0m in \u001b[0;36m__getattr__\u001b[0;34m(self, name)\u001b[0m\n\u001b[1;32m   5139\u001b[0m             \u001b[0;32mif\u001b[0m \u001b[0mself\u001b[0m\u001b[0;34m.\u001b[0m\u001b[0m_info_axis\u001b[0m\u001b[0;34m.\u001b[0m\u001b[0m_can_hold_identifiers_and_holds_name\u001b[0m\u001b[0;34m(\u001b[0m\u001b[0mname\u001b[0m\u001b[0;34m)\u001b[0m\u001b[0;34m:\u001b[0m\u001b[0;34m\u001b[0m\u001b[0;34m\u001b[0m\u001b[0m\n\u001b[1;32m   5140\u001b[0m                 \u001b[0;32mreturn\u001b[0m \u001b[0mself\u001b[0m\u001b[0;34m[\u001b[0m\u001b[0mname\u001b[0m\u001b[0;34m]\u001b[0m\u001b[0;34m\u001b[0m\u001b[0;34m\u001b[0m\u001b[0m\n\u001b[0;32m-> 5141\u001b[0;31m             \u001b[0;32mreturn\u001b[0m \u001b[0mobject\u001b[0m\u001b[0;34m.\u001b[0m\u001b[0m__getattribute__\u001b[0m\u001b[0;34m(\u001b[0m\u001b[0mself\u001b[0m\u001b[0;34m,\u001b[0m \u001b[0mname\u001b[0m\u001b[0;34m)\u001b[0m\u001b[0;34m\u001b[0m\u001b[0;34m\u001b[0m\u001b[0m\n\u001b[0m\u001b[1;32m   5142\u001b[0m \u001b[0;34m\u001b[0m\u001b[0m\n\u001b[1;32m   5143\u001b[0m     \u001b[0;32mdef\u001b[0m \u001b[0m__setattr__\u001b[0m\u001b[0;34m(\u001b[0m\u001b[0mself\u001b[0m\u001b[0;34m,\u001b[0m \u001b[0mname\u001b[0m\u001b[0;34m:\u001b[0m \u001b[0mstr\u001b[0m\u001b[0;34m,\u001b[0m \u001b[0mvalue\u001b[0m\u001b[0;34m)\u001b[0m \u001b[0;34m->\u001b[0m \u001b[0;32mNone\u001b[0m\u001b[0;34m:\u001b[0m\u001b[0;34m\u001b[0m\u001b[0;34m\u001b[0m\u001b[0m\n",
      "\u001b[0;31mAttributeError\u001b[0m: 'DataFrame' object has no attribute 'SH'"
     ]
    }
   ],
   "source": [
    "y_test = df_test.SH.values\n",
    "df_test.SH.value_counts()"
   ]
  },
  {
   "cell_type": "code",
   "execution_count": 8,
   "metadata": {},
   "outputs": [
    {
     "data": {
      "text/plain": [
       "2017    14637\n",
       "2016    14099\n",
       "2014    12797\n",
       "2015    12761\n",
       "2013    11977\n",
       "2012    11774\n",
       "Name: year, dtype: int64"
      ]
     },
     "execution_count": 8,
     "metadata": {},
     "output_type": "execute_result"
    }
   ],
   "source": [
    "df_test.year.value_counts()"
   ]
  },
  {
   "cell_type": "code",
   "execution_count": 10,
   "metadata": {
    "scrolled": false
   },
   "outputs": [
    {
     "name": "stdout",
     "output_type": "stream",
     "text": [
      "Model evaluation on the test set\n",
      "\n",
      "Classification report:\n",
      "              precision    recall  f1-score   support\n",
      "\n",
      "           0      0.997     0.997     0.997     76969\n",
      "           1      0.800     0.800     0.800      1076\n",
      "\n",
      "    accuracy                          0.994     78045\n",
      "   macro avg      0.899     0.899     0.899     78045\n",
      "weighted avg      0.994     0.994     0.994     78045\n",
      "\n",
      "binary F2: 0.800\n",
      "Average precision score: 0.866\n"
     ]
    },
    {
     "data": {
      "image/png": "[encoded data removed]",
      "text/plain": [
       "<Figure size 504x360 with 1 Axes>"
      ]
     },
     "metadata": {},
     "output_type": "display_data"
    },
    {
     "data": {
      "image/png": "[encoded data removed]",
      "text/plain": [
       "<Figure size 504x360 with 1 Axes>"
      ]
     },
     "metadata": {},
     "output_type": "display_data"
    },
    {
     "data": {
      "image/png": "[encoded data removed]",
      "text/plain": [
       "<Figure size 504x360 with 1 Axes>"
      ]
     },
     "metadata": {},
     "output_type": "display_data"
    }
   ],
   "source": [
    "thresh = 0.322\n",
    "y_proba = pipe.predict_proba(df_test[text])\n",
    "y_pred = utils.evaluate_model(y_test, y_proba, class_names, \"test\", thresh=thresh, digits=3, \n",
    "                              save_figures=False, filename=\"./results/final_model\")"
   ]
  },
  {
   "cell_type": "code",
   "execution_count": null,
   "metadata": {},
   "outputs": [],
   "source": [
    "from sklearn.metrics import confusion_matrix\n",
    "\n",
    "plt.rcParams['figure.figsize'] = (15, 3)\n",
    "\n",
    "sns.heatmap(confusion_matrix(y_test, y_pred, normalize=\"true\"), \n",
    "            annot=confusion_matrix(y_test, y_pred),\n",
    "            annot_kws={'fontsize' : 18}, fmt=\"d\",\n",
    "            cmap=\"Blues\", cbar=False, \n",
    "            xticklabels=class_names, yticklabels=class_names)\n",
    "\n",
    "plt.yticks(rotation=0)\n",
    "plt.xlabel(\"Predicted\")\n",
    "plt.ylabel(\"True\")\n",
    "plt.title(\"Confusion matrix\");\n",
    "\n",
    "# plt.savefig(\"./results/final_model_CM.png\", bbox_inches='tight', dpi=300, transparent=True, pad_inches=0);"
   ]
  },
  {
   "cell_type": "code",
   "execution_count": null,
   "metadata": {},
   "outputs": [],
   "source": [
    "print(y_pred.sum() / df_test.shape[0] * 100)\n",
    "print(y_test.sum() / df_test.shape[0] * 100)"
   ]
  },
  {
   "cell_type": "markdown",
   "metadata": {},
   "source": [
    "### Holdout data"
   ]
  },
  {
   "cell_type": "code",
   "execution_count": null,
   "metadata": {},
   "outputs": [],
   "source": [
    "df_ho = pd.read_csv(\"../data/rmh_holdout.csv\")\n",
    "df_ho.shape"
   ]
  },
  {
   "cell_type": "code",
   "execution_count": null,
   "metadata": {},
   "outputs": [],
   "source": [
    "y_ho = df_ho.SH.values\n",
    "df_ho.SH.value_counts()"
   ]
  },
  {
   "cell_type": "code",
   "execution_count": null,
   "metadata": {},
   "outputs": [],
   "source": [
    "df_ho.SI.value_counts()"
   ]
  },
  {
   "cell_type": "code",
   "execution_count": null,
   "metadata": {},
   "outputs": [],
   "source": [
    "y_proba_ho = pipe.predict_proba(df_ho[text])\n",
    "y_pred = utils.evaluate_model(y_ho, y_proba_ho, class_names, \"hold-out\", thresh=thresh, digits=3, \n",
    "                              save_figures=False, filename=\"./results/final_model_holdout\")"
   ]
  },
  {
   "cell_type": "code",
   "execution_count": null,
   "metadata": {},
   "outputs": [],
   "source": [
    "df_ho[\"y_pred\"] = y_pred\n",
    "\n",
    "df_ho[df_ho.y_pred == 1].SI.sum()"
   ]
  },
  {
   "cell_type": "code",
   "execution_count": null,
   "metadata": {},
   "outputs": [],
   "source": [
    "116/301*100"
   ]
  },
  {
   "cell_type": "code",
   "execution_count": null,
   "metadata": {},
   "outputs": [],
   "source": [
    "df_ho[(df_ho.SI==1) & (df_ho.y_pred==1)].shape[0] / df_ho.SI.sum() * 100"
   ]
  },
  {
   "cell_type": "code",
   "execution_count": null,
   "metadata": {},
   "outputs": [],
   "source": [
    "plt.rcParams['figure.figsize'] = (7, 5)\n",
    "\n",
    "sns.histplot(y_proba[:,1], bins=10, stat=\"count\", \n",
    "             color=sns.color_palette()[1], lw=3, fill=False, \n",
    "             label=\"Test set\");\n",
    "sns.histplot(y_proba_ho[:,1], bins=10, stat=\"count\", \n",
    "             color=sns.color_palette()[2], lw=3, fill=False, \n",
    "             label=\"Holdout set\");\n",
    "plt.ylim([0, 2600]);\n",
    "plt.legend(fontsize=16, loc=\"upper right\");\n",
    "plt.xlabel(\"Mean predicted value\");\n",
    "\n",
    "# plt.savefig(\"./results/final_model_probabilities_holdout.png\", bbox_inches='tight', dpi=300, pad_inches=0);"
   ]
  },
  {
   "cell_type": "code",
   "execution_count": null,
   "metadata": {},
   "outputs": [],
   "source": [
    "# False-negatives that are SH: no. 0, 5 ; no. 2 should've been Control, same with 100?\n",
    "ind = df_ho[(df_ho.y_pred == 0) & (df_ho.SH == 1) & (df_ho.SI == 0)].index\n",
    "ind.shape\n",
    "\n",
    "# # False-positives that are SI: no. 0,4\n",
    "# ind = df_ho[(df_ho.y_pred == 1) & (df_ho.SH == 0) & (df_ho.SI == 1)].index\n",
    "# ind.shape\n",
    "\n",
    "# False-positives that are Controls: no.7\n",
    "# ind = df_ho[(df_ho.y_pred == 1) & (df_ho.SH == 0) & (df_ho.SI == 0)].index\n",
    "# ind.shape"
   ]
  },
  {
   "cell_type": "code",
   "execution_count": null,
   "metadata": {},
   "outputs": [],
   "source": [
    "txt_instance = df_ho.loc[ind[5], \"entities\"]\n",
    "\n",
    "print(\"Original text: \\\"%s\\\"\"% df_ho.loc[ind[5], \"text\"])\n",
    "\n",
    "explainer = lime_text.LimeTextExplainer(class_names=class_names)\n",
    "explained = explainer.explain_instance(txt_instance, pipe.predict_proba, num_features=5)\n",
    "explained.show_in_notebook(text=txt_instance)\n",
    "explained.save_to_file('lime_report5.html')"
   ]
  },
  {
   "cell_type": "code",
   "execution_count": null,
   "metadata": {},
   "outputs": [],
   "source": [
    "explained.local_exp"
   ]
  },
  {
   "cell_type": "code",
   "execution_count": null,
   "metadata": {},
   "outputs": [],
   "source": [
    "print(\"%.2f\" % explained.local_exp[1][0][1])\n",
    "print(\"%.2f\" % explained.local_exp[1][1][1])\n",
    "print(\"%.2f\" % explained.local_exp[1][2][1])\n",
    "print(\"%.2f\" % explained.local_exp[1][3][1])\n",
    "print(\"%.3f\" % explained.local_exp[1][4][1])"
   ]
  },
  {
   "cell_type": "code",
   "execution_count": null,
   "metadata": {},
   "outputs": [],
   "source": [
    "print(\"%.1e\" % explained.local_exp[1][0][1])\n",
    "print(\"%.1e\" % explained.local_exp[1][1][1])\n",
    "print(\"%.1e\" % explained.local_exp[1][2][1])\n",
    "print(\"%.1e\" % explained.local_exp[1][3][1])\n",
    "print(\"%.1e\" % explained.local_exp[1][4][1])"
   ]
  },
  {
   "cell_type": "code",
   "execution_count": null,
   "metadata": {},
   "outputs": [],
   "source": [
    "y_proba_ho[ind[0]]"
   ]
  },
  {
   "cell_type": "code",
   "execution_count": null,
   "metadata": {},
   "outputs": [],
   "source": [
    "explained.as_pyplot_figure()"
   ]
  },
  {
   "cell_type": "markdown",
   "metadata": {},
   "source": [
    "### Suicidal ideation"
   ]
  },
  {
   "cell_type": "code",
   "execution_count": null,
   "metadata": {},
   "outputs": [],
   "source": [
    "df_si = pd.read_csv(\"./data/rmh_SI.csv\")\n",
    "print(df_si.shape)\n",
    "df_si.head()"
   ]
  },
  {
   "cell_type": "code",
   "execution_count": null,
   "metadata": {},
   "outputs": [],
   "source": [
    "y_proba_si = calibrated_pipe.predict_proba(df_si[text])\n",
    "df_si['y_pred'] = np.where(y_proba_si[:,1] > thresh_c, 1, 0)\n",
    "df_si.y_pred.sum(), df_si.y_pred.sum() / df_si.shape[0] * 100"
   ]
  },
  {
   "cell_type": "code",
   "execution_count": null,
   "metadata": {},
   "outputs": [],
   "source": [
    "df_si[df_si.y_pred == 1].index"
   ]
  },
  {
   "cell_type": "code",
   "execution_count": null,
   "metadata": {},
   "outputs": [],
   "source": [
    "txt_instance = df_si.loc[15, \"entities\"]\n",
    "\n",
    "print(\"Original text: \\\"%s\\\"\"% df_si.loc[15, \"text\"])\n",
    "\n",
    "explainer = lime_text.LimeTextExplainer(class_names=class_names)\n",
    "explained = explainer.explain_instance(txt_instance, calibrated_pipe.predict_proba, num_features=5)\n",
    "explained.show_in_notebook(text=txt_instance)"
   ]
  },
  {
   "cell_type": "code",
   "execution_count": null,
   "metadata": {},
   "outputs": [],
   "source": []
  }
 ],
 "metadata": {
  "kernelspec": {
   "display_name": "Python 3",
   "language": "python",
   "name": "python3"
  },
  "language_info": {
   "codemirror_mode": {
    "name": "ipython",
    "version": 3
   },
   "file_extension": ".py",
   "mimetype": "text/x-python",
   "name": "python",
   "nbconvert_exporter": "python",
   "pygments_lexer": "ipython3",
   "version": "3.6.8"
  },
  "toc": {
   "base_numbering": 1,
   "nav_menu": {},
   "number_sections": false,
   "sideBar": true,
   "skip_h1_title": false,
   "title_cell": "Table of Contents",
   "title_sidebar": "Contents",
   "toc_cell": false,
   "toc_position": {},
   "toc_section_display": true,
   "toc_window_display": false
  },
  "widgets": {
   "application/vnd.jupyter.widget-state+json": {
    "state": {},
    "version_major": 2,
    "version_minor": 0
   }
  }
 },
 "nbformat": 4,
 "nbformat_minor": 4
}
